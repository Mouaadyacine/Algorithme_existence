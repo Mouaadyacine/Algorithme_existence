{
 "cells": [
  {
   "cell_type": "code",
   "execution_count": null,
   "metadata": {},
   "outputs": [],
   "source": [
    "variable \n",
    "  s,i,n:entiers\n",
    "tableau\n",
    "  t(10):entier \n",
    "pour i recoit 0 a 9 pas 1 faire \n",
    "ecrire(\"doner le nombre numero\",i+1)\n",
    "lire(t(i))\n",
    "fin pour \n",
    "ecrire(\"entrer un autre entier\")\n",
    "lire(n)\n",
    "s=0\n",
    "pour i recoit 0 a 9 pas 1 faire \n",
    " si n=t(i) alors\n",
    "  s=s+1\n",
    " fin si \n",
    "fin pour \n",
    "si s=0 alors \n",
    "ecrire(n,\"nexiste pas\")\n",
    "sinon \n",
    "ecrire(n,\"existe\",s,\"fois\")\n",
    "fin si \n",
    "fin "
   ]
  }
 ],
 "metadata": {
  "language_info": {
   "name": "python"
  }
 },
 "nbformat": 4,
 "nbformat_minor": 2
}
